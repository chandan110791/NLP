{
  "cells": [
    {
      "cell_type": "markdown",
      "metadata": {
        "id": "view-in-github",
        "colab_type": "text"
      },
      "source": [
        "<a href=\"https://colab.research.google.com/github/chandan110791/NLP/blob/main/soundex_algo.ipynb\" target=\"_parent\"><img src=\"https://colab.research.google.com/assets/colab-badge.svg\" alt=\"Open In Colab\"/></a>"
      ]
    },
    {
      "cell_type": "markdown",
      "metadata": {
        "id": "pqET5pNImblE"
      },
      "source": [
        "## Soundex"
      ]
    },
    {
      "cell_type": "markdown",
      "metadata": {
        "id": "sARDH4r-mblG"
      },
      "source": [
        "Let's create a function which calculates the soundex of any given string "
      ]
    },
    {
      "cell_type": "code",
      "execution_count": null,
      "metadata": {
        "id": "EPU7LRFkmblI"
      },
      "outputs": [],
      "source": [
        "def get_soundex(token):\n",
        "    \"\"\"Get the soundex code for the string\"\"\"\n",
        "    token = token.upper()\n",
        "\n",
        "    soundex = \"\"\n",
        "    \n",
        "    # first letter of input is always the first letter of soundex\n",
        "    soundex += token[0]\n",
        "    \n",
        "    # create a dictionary which maps letters to respective soundex codes. Vowels and 'H', 'W' and 'Y' will be represented by '.'\n",
        "    dictionary = {\"BFPV\": \"1\", \"CGJKQSXZ\":\"2\", \"DT\":\"3\", \"L\":\"4\", \"MN\":\"5\", \"R\":\"6\", \"AEIOUHWY\":\".\"}\n",
        "    \n",
        "    for char in token[1:]:\n",
        "        for key in dictionary.keys():\n",
        "            if char in key:\n",
        "                code = dictionary[key] \n",
        "                if code != '.': \n",
        "                    if code != soundex[-1]: \n",
        "                        soundex += code \n",
        "                    \n",
        "    \n",
        "    # trim or pad to make soundex a 4-character code\n",
        "    soundex = soundex[:4].ljust(4, \"0\")\n",
        "        \n",
        "    return soundex"
      ]
    },
    {
      "cell_type": "markdown",
      "metadata": {
        "id": "HT2FM3wwmblK"
      },
      "source": [
        "Let's see what's the soudex of 'Bombay' and 'Bambai'"
      ]
    },
    {
      "cell_type": "code",
      "execution_count": null,
      "metadata": {
        "id": "EmebeIt3mblL",
        "outputId": "b62877c7-4c30-418c-d153-5d25bc1462a8"
      },
      "outputs": [
        {
          "name": "stdout",
          "output_type": "stream",
          "text": [
            "S300\n",
            "A261\n"
          ]
        }
      ],
      "source": [
        "print(get_soundex(\"STOUT\"))\n",
        "print(get_soundex(\"Ashcraft\"))"
      ]
    },
    {
      "cell_type": "code",
      "execution_count": null,
      "metadata": {
        "id": "AhS6o5uGmblN",
        "outputId": "9d5c3779-1666-4bd1-d5dc-de64d04e9aab"
      },
      "outputs": [
        {
          "name": "stdout",
          "output_type": "stream",
          "text": [
            "S300\n",
            "A261\n"
          ]
        }
      ],
      "source": [
        "print(get_soundex(\"STOUT\"))\n",
        "print(get_soundex(\"Ashcraft\"))"
      ]
    },
    {
      "cell_type": "markdown",
      "metadata": {
        "id": "XQlcEkuJmblN"
      },
      "source": [
        "Let's see soundex of 'Aggrawal', 'Agrawal', 'Aggarwal' and 'Agarwal'"
      ]
    },
    {
      "cell_type": "code",
      "execution_count": null,
      "metadata": {
        "id": "YUK_rYnVmblN",
        "outputId": "2aa1b68b-cb2f-4cb9-9bee-770c708ca274"
      },
      "outputs": [
        {
          "name": "stdout",
          "output_type": "stream",
          "text": [
            "A264\n",
            "A264\n",
            "A264\n",
            "A264\n"
          ]
        }
      ],
      "source": [
        "print(get_soundex(\"Aggrawal\"))\n",
        "print(get_soundex(\"Agrawal\"))\n",
        "print(get_soundex(\"Aggarwal\"))\n",
        "print(get_soundex(\"Agarwal\"))"
      ]
    }
  ],
  "metadata": {
    "kernelspec": {
      "display_name": "Python 3",
      "language": "python",
      "name": "python3"
    },
    "language_info": {
      "codemirror_mode": {
        "name": "ipython",
        "version": 3
      },
      "file_extension": ".py",
      "mimetype": "text/x-python",
      "name": "python",
      "nbconvert_exporter": "python",
      "pygments_lexer": "ipython3",
      "version": "3.7.3"
    },
    "colab": {
      "provenance": [],
      "include_colab_link": true
    }
  },
  "nbformat": 4,
  "nbformat_minor": 0
}