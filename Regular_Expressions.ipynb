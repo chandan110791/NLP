{
  "cells": [
    {
      "cell_type": "markdown",
      "metadata": {
        "id": "view-in-github",
        "colab_type": "text"
      },
      "source": [
        "<a href=\"https://colab.research.google.com/github/chandan110791/NLP/blob/main/Regular_Expressions.ipynb\" target=\"_parent\"><img src=\"https://colab.research.google.com/assets/colab-badge.svg\" alt=\"Open In Colab\"/></a>"
      ]
    },
    {
      "cell_type": "markdown",
      "metadata": {
        "id": "qP5mYaEsF74b"
      },
      "source": [
        "## Regular Expressions\n",
        "Regular expression is a set of characters, called as the pattern, which helps in finding substrings in a given string. The pattern is used to detect the substrings\n",
        "\n",
        "For example, suppose you have a dataset of customer reviews about your restaurant. Say, you want to extract the emojis from the reviews because they are a good predictor os the sentiment of the review.\n",
        "\n",
        "Take another example, the artificial assistants such as Siri, Google Now use information retrieval to give you better results. When you ask them for any query or ask them to search for something interesting on the screen, they look for common patterns such as emails, phone numbers, place names, date and time and so on. This is because then the assitant can automatically make a booking or ask you to call the resturant to make a booking.\n",
        "\n",
        "Regular expressions are very powerful tool in text processing. It will help you to clean and handle your text in a much better way."
      ]
    },
    {
      "cell_type": "markdown",
      "metadata": {
        "id": "kUN508uuF74e"
      },
      "source": [
        "### Let's import the regular expression library in python."
      ]
    },
    {
      "cell_type": "code",
      "execution_count": 1,
      "metadata": {
        "id": "NMB3YnE9F74f"
      },
      "outputs": [],
      "source": [
        "import re"
      ]
    },
    {
      "cell_type": "markdown",
      "metadata": {
        "id": "pQSJSNjrF74g"
      },
      "source": [
        "Let's do a quick search using a pattern."
      ]
    },
    {
      "cell_type": "code",
      "execution_count": null,
      "metadata": {
        "id": "rMgMMZeyF74g",
        "outputId": "f4bb62df-4fdd-43f6-f871-a810216be5b2"
      },
      "outputs": [
        {
          "data": {
            "text/plain": [
              "<re.Match object; span=(0, 4), match='Ravi'>"
            ]
          },
          "execution_count": 2,
          "metadata": {},
          "output_type": "execute_result"
        }
      ],
      "source": [
        "re.search('Ravi', 'Ravi is an exceptional student!')"
      ]
    },
    {
      "cell_type": "code",
      "execution_count": null,
      "metadata": {
        "id": "npktq3v1F74h",
        "outputId": "a17344c5-4ba6-43f4-fd69-db1fd1e49cc4"
      },
      "outputs": [
        {
          "name": "stdout",
          "output_type": "stream",
          "text": [
            "Ravi\n"
          ]
        }
      ],
      "source": [
        "# print output of re.search()\n",
        "match = re.search('Ravi', 'Ravi is an exceptional student!')\n",
        "print(match.group())"
      ]
    },
    {
      "cell_type": "markdown",
      "metadata": {
        "id": "ve8n6zWUF74i"
      },
      "source": [
        "Let's define a function to match regular expression patterns"
      ]
    },
    {
      "cell_type": "code",
      "execution_count": null,
      "metadata": {
        "id": "_OQ9PyZ0F74i"
      },
      "outputs": [],
      "source": [
        "def find_pattern(text, patterns):\n",
        "    if re.search(patterns, text):\n",
        "        return re.search(patterns, text)\n",
        "    else:\n",
        "        return 'Not Found!'"
      ]
    },
    {
      "cell_type": "markdown",
      "metadata": {
        "id": "ba-Vn_OnF74j"
      },
      "source": [
        "### Quantifiers"
      ]
    },
    {
      "cell_type": "code",
      "execution_count": null,
      "metadata": {
        "id": "sxqXnWVnF74k",
        "outputId": "0d671e99-a2fe-44ce-9b7d-aa6648accc58"
      },
      "outputs": [
        {
          "name": "stdout",
          "output_type": "stream",
          "text": [
            "<re.Match object; span=(0, 1), match='a'>\n",
            "<re.Match object; span=(0, 2), match='ab'>\n",
            "<re.Match object; span=(0, 3), match='abb'>\n"
          ]
        }
      ],
      "source": [
        "# '*': Zero or more \n",
        "print(find_pattern(\"ac\", \"ab*\"))\n",
        "print(find_pattern(\"abc\", \"ab*\"))\n",
        "print(find_pattern(\"abbc\", \"ab*\"))"
      ]
    },
    {
      "cell_type": "code",
      "execution_count": null,
      "metadata": {
        "id": "Q6-wdA7PF74l",
        "outputId": "f2709f19-a571-4882-b9a1-cb454cf11fd6"
      },
      "outputs": [
        {
          "name": "stdout",
          "output_type": "stream",
          "text": [
            "<re.Match object; span=(0, 1), match='a'>\n",
            "<re.Match object; span=(0, 2), match='ab'>\n",
            "<re.Match object; span=(0, 2), match='ab'>\n"
          ]
        }
      ],
      "source": [
        "# '?': Zero or one (tells whether a pattern is absent or present)\n",
        "print(find_pattern(\"ac\", \"ab?\"))\n",
        "print(find_pattern(\"abc\", \"ab?\"))\n",
        "print(find_pattern(\"abbc\", \"ab?\"))"
      ]
    },
    {
      "cell_type": "code",
      "execution_count": null,
      "metadata": {
        "id": "xDqaHb17F74m",
        "outputId": "c4c33110-7adc-47c9-ee77-a34920c04e99"
      },
      "outputs": [
        {
          "name": "stdout",
          "output_type": "stream",
          "text": [
            "Not Found!\n",
            "<re.Match object; span=(0, 2), match='ab'>\n",
            "<re.Match object; span=(0, 3), match='abb'>\n"
          ]
        }
      ],
      "source": [
        "# '+': One or more\n",
        "print(find_pattern(\"ac\", \"ab+\"))\n",
        "print(find_pattern(\"abc\", \"ab+\"))\n",
        "print(find_pattern(\"abbc\", \"ab+\"))"
      ]
    },
    {
      "cell_type": "code",
      "execution_count": null,
      "metadata": {
        "id": "rHyzDpLQF74m",
        "outputId": "931b034a-cad2-45e8-ce8f-fb83e2727e70"
      },
      "outputs": [
        {
          "name": "stdout",
          "output_type": "stream",
          "text": [
            "<re.Match object; span=(0, 3), match='abb'>\n"
          ]
        }
      ],
      "source": [
        "# {n}: Matches if a character is present exactly n number of times\n",
        "print(find_pattern(\"abbc\", \"ab{2}\"))\n"
      ]
    },
    {
      "cell_type": "code",
      "execution_count": null,
      "metadata": {
        "id": "sdV5N-s8F74n",
        "outputId": "e1e32149-8b6b-4483-c174-862cd4cc6323"
      },
      "outputs": [
        {
          "name": "stdout",
          "output_type": "stream",
          "text": [
            "<re.Match object; span=(1, 7), match='abbbbb'>\n",
            "Not Found!\n",
            "<re.Match object; span=(0, 1), match='a'>\n",
            "Not Found!\n"
          ]
        }
      ],
      "source": [
        "# {m,n}: Matches if a character is present from m to n number of times\n",
        "print(find_pattern(\"aabbbbbbc\", \"ab{3,5}\"))   # return true if 'b' is present 3-5 times\n",
        "print(find_pattern(\"aabbbbbbc\", \"ab{7,10}\"))  # return true if 'b' is present 7-10 times\n",
        "print(find_pattern(\"aabbbbbbc\", \"ab{,10}\"))   # return true if 'b' is present atmost 10 times\n",
        "print(find_pattern(\"aabbbbbbc\", \"ab{10,}\"))   # return true if 'b' is present from at least 10 times"
      ]
    },
    {
      "cell_type": "markdown",
      "metadata": {
        "id": "cwPdysvOF74n"
      },
      "source": [
        "### Anchors"
      ]
    },
    {
      "cell_type": "code",
      "execution_count": null,
      "metadata": {
        "id": "gfHDuPGEF74o",
        "outputId": "93270836-e1b8-444c-bd6c-4120369328d4"
      },
      "outputs": [
        {
          "name": "stdout",
          "output_type": "stream",
          "text": [
            "<re.Match object; span=(0, 1), match='J'>\n",
            "Not Found!\n",
            "<re.Match object; span=(4, 5), match='a'>\n",
            "Not Found!\n"
          ]
        }
      ],
      "source": [
        "# '^': Indicates start of a string\n",
        "# '$': Indicates end of string\n",
        "\n",
        "print(find_pattern(\"James\", \"^J\"))   # return true if string starts with 'J' \n",
        "print(find_pattern(\"Pramod\", \"^J\"))  # return true if string starts with 'J' \n",
        "print(find_pattern(\"India\", \"a$\"))   # return true if string ends with 'c'\n",
        "print(find_pattern(\"Japan\", \"a$\"))   # return true if string ends with 'c'\n"
      ]
    },
    {
      "cell_type": "markdown",
      "metadata": {
        "id": "EPMXO82yF74o"
      },
      "source": [
        "### Wildcard"
      ]
    },
    {
      "cell_type": "code",
      "execution_count": null,
      "metadata": {
        "id": "vJsKdJlzF74o",
        "outputId": "293a09bd-adb2-4f4b-dade-77c6cb010da7"
      },
      "outputs": [
        {
          "name": "stdout",
          "output_type": "stream",
          "text": [
            "<re.Match object; span=(0, 1), match='a'>\n",
            "<re.Match object; span=(0, 1), match='#'>\n"
          ]
        }
      ],
      "source": [
        "# '.': Matches any character\n",
        "print(find_pattern(\"a\", \".\"))\n",
        "print(find_pattern(\"#\", \".\"))\n"
      ]
    },
    {
      "cell_type": "markdown",
      "metadata": {
        "id": "EtgTzgBBF74p"
      },
      "source": [
        "### Character sets"
      ]
    },
    {
      "cell_type": "code",
      "execution_count": null,
      "metadata": {
        "id": "ExunNLYxF74q",
        "outputId": "61e270a1-d3e8-480b-a685-7b564a62858d"
      },
      "outputs": [
        {
          "name": "stdout",
          "output_type": "stream",
          "text": [
            "<re.Match object; span=(0, 1), match='a'>\n",
            "<re.Match object; span=(0, 1), match='c'>\n"
          ]
        }
      ],
      "source": [
        "# Now we will look at '[' and ']'.\n",
        "# They're used for specifying a character class, which is a set of characters that you wish to match.\n",
        "# Characters can be listed individually as follows\n",
        "print(find_pattern(\"a\", \"[abc]\"))\n",
        "\n",
        "# Or a range of characters can be indicated by giving two characters and separating them by a '-'.\n",
        "print(find_pattern(\"c\", \"[a-c]\"))  # same as above"
      ]
    },
    {
      "cell_type": "code",
      "execution_count": null,
      "metadata": {
        "id": "AH5Cn4IFF74q",
        "outputId": "a6b69dcc-f7a9-45af-c8e1-ab0264d6b259"
      },
      "outputs": [
        {
          "name": "stdout",
          "output_type": "stream",
          "text": [
            "Not Found!\n"
          ]
        }
      ],
      "source": [
        "# '^' is used inside character set to indicate complementary set\n",
        "print(find_pattern(\"a\", \"[^abc]\"))  # return true if neither of these is present - a,b or c"
      ]
    },
    {
      "cell_type": "markdown",
      "metadata": {
        "id": "lD2QFD8tF74q"
      },
      "source": [
        "### Character sets\n",
        "| Pattern  | Matches                                                                                    |\n",
        "|----------|--------------------------------------------------------------------------------------------|\n",
        "| [abc]    | Matches either an a, b or c character                                                      |\n",
        "| [abcABC] | Matches either an a, A, b, B, c or C character                                             |\n",
        "| [a-z]    | Matches any characters between a and z, including a and z                                  |\n",
        "| [A-Z]    | Matches any characters between A and Z, including A and Z                                  |\n",
        "| [a-zA-Z] | Matches any characters between a and z, including a and z ignoring cases of the characters |\n",
        "| [0-9]    | Matches any character which is a number between 0 and 9                                    |"
      ]
    },
    {
      "cell_type": "markdown",
      "metadata": {
        "id": "bjOQzdoJF74r"
      },
      "source": [
        "### Meta sequences\n",
        "\n",
        "| Pattern  | Equivalent to    |\n",
        "|----------|------------------|\n",
        "| \\s       | [ \\t\\n\\r\\f\\v]    |\n",
        "| \\S       | [^ \\t\\n\\r\\f\\v]   |\n",
        "| \\d       | [0-9]            |\n",
        "| \\D       | [^0-9]           |\n",
        "| \\w       | [a-zA-Z0-9_]     |\n",
        "| \\W       | [^a-zA-Z0-9_]    |"
      ]
    },
    {
      "cell_type": "markdown",
      "metadata": {
        "id": "8oLPsepyF74r"
      },
      "source": [
        "### Greedy vs non-greedy regex"
      ]
    },
    {
      "cell_type": "code",
      "execution_count": null,
      "metadata": {
        "id": "XdF5XFFkF74r",
        "outputId": "3eca871a-49b5-42fe-eede-e179131735c8"
      },
      "outputs": [
        {
          "name": "stdout",
          "output_type": "stream",
          "text": [
            "<re.Match object; span=(1, 7), match='abbbbb'>\n"
          ]
        }
      ],
      "source": [
        "print(find_pattern(\"aabbbbbb\", \"ab{3,5}\")) # return if a is followed by b 3-5 times GREEDY"
      ]
    },
    {
      "cell_type": "code",
      "execution_count": null,
      "metadata": {
        "id": "Qgouts9bF74r",
        "outputId": "69030680-e4a1-4281-a492-687ead3749ff"
      },
      "outputs": [
        {
          "name": "stdout",
          "output_type": "stream",
          "text": [
            "<re.Match object; span=(1, 5), match='abbb'>\n"
          ]
        }
      ],
      "source": [
        "print(find_pattern(\"aabbbbbb\", \"ab{3,5}?\")) # return if a is followed by b 3-5 times GREEDY"
      ]
    },
    {
      "cell_type": "code",
      "execution_count": null,
      "metadata": {
        "id": "dQcpB_k5F74t",
        "outputId": "336cd50f-36ae-4b1c-b3d9-be3b3ea14766"
      },
      "outputs": [
        {
          "name": "stdout",
          "output_type": "stream",
          "text": [
            "<re.Match object; span=(0, 35), match='<HTML><TITLE>My Page</TITLE></HTML>'>\n"
          ]
        }
      ],
      "source": [
        "# Example of HTML code\n",
        "print(re.search(\"<.*>\",\"<HTML><TITLE>My Page</TITLE></HTML>\"))"
      ]
    },
    {
      "cell_type": "code",
      "execution_count": null,
      "metadata": {
        "id": "NZQtmZ-jF74t",
        "outputId": "b9c239f4-63eb-450a-bcd0-b948984a12ab"
      },
      "outputs": [
        {
          "name": "stdout",
          "output_type": "stream",
          "text": [
            "<re.Match object; span=(0, 6), match='<HTML>'>\n"
          ]
        }
      ],
      "source": [
        "# Example of HTML code\n",
        "print(re.search(\"<.*?>\",\"<HTML><TITLE>My Page</TITLE></HTML>\"))"
      ]
    },
    {
      "cell_type": "markdown",
      "metadata": {
        "id": "tZfTzdjzF74t"
      },
      "source": [
        "### The five most important re functions that you would be required to use most of the times are\n",
        "\n",
        "match() Determine if the RE matches at the beginning of the string\n",
        "\n",
        "search() Scan through a string, looking for any location where this RE matches\n",
        "\n",
        "finall() Find all the substrings where the RE matches, and return them as a list\n",
        "\n",
        "finditer() Find all substrings where RE matches and return them as asn iterator\n",
        "\n",
        "sub() Find all substrings where the RE matches and substitute them with the given string"
      ]
    },
    {
      "cell_type": "code",
      "execution_count": null,
      "metadata": {
        "id": "gZQsOjH5F74u"
      },
      "outputs": [],
      "source": [
        "# - this function uses the re.match() and let's see how it differs from re.search()\n",
        "def match_pattern(text, patterns):\n",
        "    if re.match(patterns, text):\n",
        "        return re.match(patterns, text)\n",
        "    else:\n",
        "        return ('Not found!')"
      ]
    },
    {
      "cell_type": "code",
      "execution_count": null,
      "metadata": {
        "id": "7PKLbNuuF74u",
        "outputId": "7f0851cd-1db9-41cb-e9ff-cd208ab3c4e6"
      },
      "outputs": [
        {
          "name": "stdout",
          "output_type": "stream",
          "text": [
            "<re.Match object; span=(1, 3), match='bb'>\n"
          ]
        }
      ],
      "source": [
        "print(find_pattern(\"abbc\", \"b+\"))"
      ]
    },
    {
      "cell_type": "code",
      "execution_count": null,
      "metadata": {
        "id": "lvTAfT2-F74u",
        "outputId": "48e75659-8091-4138-fdb9-3dec54c7c8d0"
      },
      "outputs": [
        {
          "name": "stdout",
          "output_type": "stream",
          "text": [
            "Not found!\n"
          ]
        }
      ],
      "source": [
        "print(match_pattern(\"abbc\", \"b+\"))"
      ]
    },
    {
      "cell_type": "code",
      "execution_count": null,
      "metadata": {
        "id": "1zdRLOjOF74u",
        "outputId": "b17506f8-2fd4-44a9-db5e-e9376afb5b17"
      },
      "outputs": [
        {
          "name": "stdout",
          "output_type": "stream",
          "text": [
            "21 Ramakrishna Rd\n"
          ]
        }
      ],
      "source": [
        "## Example usage of the sub() function. Replace Road with rd.\n",
        "\n",
        "street = '21 Ramakrishna Road'\n",
        "print(re.sub('Road', 'Rd', street))"
      ]
    },
    {
      "cell_type": "code",
      "execution_count": null,
      "metadata": {
        "id": "z9pY1DvgF74v",
        "outputId": "9c08b3f5-cccb-4c45-c141-0ab8dbafa8df"
      },
      "outputs": [
        {
          "name": "stdout",
          "output_type": "stream",
          "text": [
            "21 Rd Rd\n"
          ]
        }
      ],
      "source": [
        "print(re.sub('R\\w+', 'Rd', street))"
      ]
    },
    {
      "cell_type": "code",
      "source": [
        "print(re.sub('R\\w+','S','21 Ramakrishnappa Road'))"
      ],
      "metadata": {
        "colab": {
          "base_uri": "https://localhost:8080/"
        },
        "id": "kU-lDdIQKxsL",
        "outputId": "d4621c88-122d-4e86-e721-b315ff44b537"
      },
      "execution_count": 7,
      "outputs": [
        {
          "output_type": "stream",
          "name": "stdout",
          "text": [
            "21 S S\n"
          ]
        }
      ]
    },
    {
      "cell_type": "code",
      "execution_count": null,
      "metadata": {
        "id": "pUw_jwb8F74v",
        "outputId": "6a64ce41-b4a6-4b1d-a6cf-c197018adc0c"
      },
      "outputs": [
        {
          "name": "stdout",
          "output_type": "stream",
          "text": [
            "START - 12END - 20\n",
            "START - 42END - 50\n"
          ]
        }
      ],
      "source": [
        "## Example usage of finditer(). Find all occurrences of word Festival in given sentence\n",
        "\n",
        "text = 'Diwali is a festival of lights, Holi is a festival of colors!'\n",
        "pattern = 'festival'\n",
        "for match in re.finditer(pattern, text):\n",
        "    print('START -', match.start(), end=\"\")\n",
        "    print('END -', match.end())"
      ]
    },
    {
      "cell_type": "code",
      "execution_count": null,
      "metadata": {
        "id": "n3iGXs1kF74v",
        "outputId": "fc55d69b-354d-40ad-f431-7558e52fed82"
      },
      "outputs": [
        {
          "name": "stdout",
          "output_type": "stream",
          "text": [
            "[('2017', '10', '28')]\n"
          ]
        }
      ],
      "source": [
        "# Example usage of findall(). In the given URL find all dates\n",
        "url = \"http://www.telegraph.co.uk/formula-1/2017/10/28/mexican-grand-prix-2017-time-does-start-tv-channel-odds-lewisl/2017/05/12\"\n",
        "date_regex = '/(\\d{4})/(\\d{1,2})/(\\d{1,2})/'\n",
        "print(re.findall(date_regex, url))"
      ]
    },
    {
      "cell_type": "code",
      "execution_count": null,
      "metadata": {
        "id": "ABXMsvVXF74w",
        "outputId": "24e316b8-ba96-48da-cdc9-7df19c80abd9"
      },
      "outputs": [
        {
          "name": "stdout",
          "output_type": "stream",
          "text": [
            "/2017/10/28/\n"
          ]
        }
      ],
      "source": [
        "## Exploring Groups\n",
        "m1 = re.search(date_regex, url)\n",
        "print(m1.group())  ## print the matched group"
      ]
    },
    {
      "cell_type": "code",
      "execution_count": null,
      "metadata": {
        "id": "jmLqUgUrF74w",
        "outputId": "4ca8476c-142b-4989-cba1-be424bb35b40"
      },
      "outputs": [
        {
          "name": "stdout",
          "output_type": "stream",
          "text": [
            "2017\n"
          ]
        }
      ],
      "source": [
        "print(m1.group(1)) # - Print first group"
      ]
    },
    {
      "cell_type": "code",
      "execution_count": null,
      "metadata": {
        "id": "e8c0LiNIF74w",
        "outputId": "c2bd8b69-12f5-4e33-98cc-3a4fdb8e2c2a"
      },
      "outputs": [
        {
          "name": "stdout",
          "output_type": "stream",
          "text": [
            "10\n"
          ]
        }
      ],
      "source": [
        "print(m1.group(2)) # - Print second group"
      ]
    },
    {
      "cell_type": "code",
      "execution_count": null,
      "metadata": {
        "id": "s2XRKMRZF74w",
        "outputId": "6f48520d-8732-4639-dfc4-1893bbeb6da4"
      },
      "outputs": [
        {
          "name": "stdout",
          "output_type": "stream",
          "text": [
            "28\n"
          ]
        }
      ],
      "source": [
        "print(m1.group(3)) # - Print third group"
      ]
    },
    {
      "cell_type": "code",
      "execution_count": null,
      "metadata": {
        "id": "lWUS2LApF74y",
        "outputId": "64a28606-c923-4bb5-a170-b86661232070"
      },
      "outputs": [
        {
          "name": "stdout",
          "output_type": "stream",
          "text": [
            "/2017/10/28/\n"
          ]
        }
      ],
      "source": [
        "print(m1.group(0)) # - Print zero or the default group"
      ]
    }
  ],
  "metadata": {
    "kernelspec": {
      "display_name": "Python 3",
      "language": "python",
      "name": "python3"
    },
    "language_info": {
      "codemirror_mode": {
        "name": "ipython",
        "version": 3
      },
      "file_extension": ".py",
      "mimetype": "text/x-python",
      "name": "python",
      "nbconvert_exporter": "python",
      "pygments_lexer": "ipython3",
      "version": "3.7.0"
    },
    "colab": {
      "provenance": [],
      "include_colab_link": true
    }
  },
  "nbformat": 4,
  "nbformat_minor": 0
}