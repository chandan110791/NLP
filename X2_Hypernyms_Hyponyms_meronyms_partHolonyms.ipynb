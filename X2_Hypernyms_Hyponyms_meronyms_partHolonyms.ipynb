{
  "nbformat": 4,
  "nbformat_minor": 0,
  "metadata": {
    "colab": {
      "provenance": [],
      "authorship_tag": "ABX9TyMR4CTU/U7IFjtiTs34LvBJ",
      "include_colab_link": true
    },
    "kernelspec": {
      "name": "python3",
      "display_name": "Python 3"
    },
    "language_info": {
      "name": "python"
    }
  },
  "cells": [
    {
      "cell_type": "markdown",
      "metadata": {
        "id": "view-in-github",
        "colab_type": "text"
      },
      "source": [
        "<a href=\"https://colab.research.google.com/github/chandan110791/NLP/blob/main/X2_Hypernyms_Hyponyms_meronyms_partHolonyms.ipynb\" target=\"_parent\"><img src=\"https://colab.research.google.com/assets/colab-badge.svg\" alt=\"Open In Colab\"/></a>"
      ]
    },
    {
      "cell_type": "code",
      "execution_count": null,
      "metadata": {
        "id": "EtFTppBk52Pg"
      },
      "outputs": [],
      "source": []
    },
    {
      "cell_type": "markdown",
      "source": [
        "**WordNet Tutorial**\n",
        "\n",
        "Navigating Wornet Relationships"
      ],
      "metadata": {
        "id": "SKYoeYKc55Eg"
      }
    },
    {
      "cell_type": "code",
      "source": [
        "!pip install nltk"
      ],
      "metadata": {
        "colab": {
          "base_uri": "https://localhost:8080/"
        },
        "id": "WWhNUCwv6BcX",
        "outputId": "a6201652-1c99-410b-920c-d67cf277880a"
      },
      "execution_count": 1,
      "outputs": [
        {
          "output_type": "stream",
          "name": "stdout",
          "text": [
            "Looking in indexes: https://pypi.org/simple, https://us-python.pkg.dev/colab-wheels/public/simple/\n",
            "Requirement already satisfied: nltk in /usr/local/lib/python3.8/dist-packages (3.7)\n",
            "Requirement already satisfied: tqdm in /usr/local/lib/python3.8/dist-packages (from nltk) (4.64.1)\n",
            "Requirement already satisfied: click in /usr/local/lib/python3.8/dist-packages (from nltk) (7.1.2)\n",
            "Requirement already satisfied: regex>=2021.8.3 in /usr/local/lib/python3.8/dist-packages (from nltk) (2022.6.2)\n",
            "Requirement already satisfied: joblib in /usr/local/lib/python3.8/dist-packages (from nltk) (1.2.0)\n"
          ]
        }
      ]
    },
    {
      "cell_type": "code",
      "source": [
        "from nltk import download"
      ],
      "metadata": {
        "id": "Ob_Fb0ah6jC8"
      },
      "execution_count": 2,
      "outputs": []
    },
    {
      "cell_type": "code",
      "source": [
        "download('wordnet')"
      ],
      "metadata": {
        "colab": {
          "base_uri": "https://localhost:8080/"
        },
        "id": "ssigYOnN6oO3",
        "outputId": "e0ac91f9-eb94-455e-84b9-e6687cf44466"
      },
      "execution_count": 3,
      "outputs": [
        {
          "output_type": "stream",
          "name": "stderr",
          "text": [
            "[nltk_data] Downloading package wordnet to /root/nltk_data...\n"
          ]
        },
        {
          "output_type": "execute_result",
          "data": {
            "text/plain": [
              "True"
            ]
          },
          "metadata": {},
          "execution_count": 3
        }
      ]
    },
    {
      "cell_type": "code",
      "source": [
        "from nltk.corpus import wordnet"
      ],
      "metadata": {
        "id": "n8xJHgbw6qZ5"
      },
      "execution_count": 4,
      "outputs": []
    },
    {
      "cell_type": "code",
      "source": [
        "#Synsets\n",
        "import nltk\n",
        "nltk.download('omw-1.4')\n",
        "\n",
        "tractor = wordnet.synsets('tractor')\n",
        "tractor"
      ],
      "metadata": {
        "colab": {
          "base_uri": "https://localhost:8080/"
        },
        "id": "y_uBeRCX6uZr",
        "outputId": "5a939ba3-f129-4133-9bbb-28185393031d"
      },
      "execution_count": 7,
      "outputs": [
        {
          "output_type": "stream",
          "name": "stderr",
          "text": [
            "[nltk_data] Downloading package omw-1.4 to /root/nltk_data...\n"
          ]
        },
        {
          "output_type": "execute_result",
          "data": {
            "text/plain": [
              "[Synset('tractor.n.01'), Synset('tractor.n.02')]"
            ]
          },
          "metadata": {},
          "execution_count": 7
        }
      ]
    },
    {
      "cell_type": "code",
      "source": [
        "[syn.definition() for syn in tractor]"
      ],
      "metadata": {
        "colab": {
          "base_uri": "https://localhost:8080/"
        },
        "id": "MKf7lJNU62Up",
        "outputId": "d881925c-8d58-4a92-d934-e0f1bc62ee8a"
      },
      "execution_count": 9,
      "outputs": [
        {
          "output_type": "execute_result",
          "data": {
            "text/plain": [
              "['a wheeled vehicle with large wheels; used in farming and other applications',\n",
              " 'a truck that has a cab but no body; used for pulling large trailers or vans']"
            ]
          },
          "metadata": {},
          "execution_count": 9
        }
      ]
    },
    {
      "cell_type": "code",
      "source": [
        "tractor = wordnet.synset('tractor.n.01')"
      ],
      "metadata": {
        "id": "7707fz3b7MRG"
      },
      "execution_count": 10,
      "outputs": []
    },
    {
      "cell_type": "code",
      "source": [
        "# Hypernyms: Relation between a concept and its superordinate\n",
        "tractor.hypernyms()"
      ],
      "metadata": {
        "colab": {
          "base_uri": "https://localhost:8080/"
        },
        "id": "RtutAS5C7XMp",
        "outputId": "0151f94f-505c-4e6b-dec1-3e8ab115c2dd"
      },
      "execution_count": 14,
      "outputs": [
        {
          "output_type": "execute_result",
          "data": {
            "text/plain": [
              "[Synset('self-propelled_vehicle.n.01')]"
            ]
          },
          "metadata": {},
          "execution_count": 14
        }
      ]
    },
    {
      "cell_type": "code",
      "source": [
        "propelled_vehicle = wordnet.synset('self-propelled_vehicle.n.01')\n",
        "propelled_vehicle.hypernyms()"
      ],
      "metadata": {
        "colab": {
          "base_uri": "https://localhost:8080/"
        },
        "id": "neE2Zx4l7aDd",
        "outputId": "b88955d5-1bdb-4b77-f6fb-6924221101e2"
      },
      "execution_count": 23,
      "outputs": [
        {
          "output_type": "execute_result",
          "data": {
            "text/plain": [
              "[Synset('wheeled_vehicle.n.01')]"
            ]
          },
          "metadata": {},
          "execution_count": 23
        }
      ]
    },
    {
      "cell_type": "code",
      "source": [
        "#Meronyms : Relation between a part and its whole \n",
        "\n",
        "wheeled_vehicle = wordnet.synset('wheeled_vehicle.n.01')\n",
        "wheeled_vehicle.part_meronyms()"
      ],
      "metadata": {
        "colab": {
          "base_uri": "https://localhost:8080/"
        },
        "id": "9J0Guhz_7jUM",
        "outputId": "aa2e4fa9-cee1-4725-deb1-26b50551d048"
      },
      "execution_count": 18,
      "outputs": [
        {
          "output_type": "execute_result",
          "data": {
            "text/plain": [
              "[Synset('axle.n.01'),\n",
              " Synset('brake.n.01'),\n",
              " Synset('splasher.n.01'),\n",
              " Synset('wheel.n.01')]"
            ]
          },
          "metadata": {},
          "execution_count": 18
        }
      ]
    },
    {
      "cell_type": "code",
      "source": [
        "#Hyponyms:Relation between concept and its subordinates \n",
        "wheeled_vehicle.hyponyms()"
      ],
      "metadata": {
        "colab": {
          "base_uri": "https://localhost:8080/"
        },
        "id": "3MbxtsT875jm",
        "outputId": "afc36996-7c46-4662-dd83-bcca0ec82f10"
      },
      "execution_count": 20,
      "outputs": [
        {
          "output_type": "execute_result",
          "data": {
            "text/plain": [
              "[Synset('baby_buggy.n.01'),\n",
              " Synset('bicycle.n.01'),\n",
              " Synset('boneshaker.n.01'),\n",
              " Synset('car.n.02'),\n",
              " Synset('handcart.n.01'),\n",
              " Synset('horse-drawn_vehicle.n.01'),\n",
              " Synset('motor_scooter.n.01'),\n",
              " Synset('rolling_stock.n.01'),\n",
              " Synset('scooter.n.02'),\n",
              " Synset('self-propelled_vehicle.n.01'),\n",
              " Synset('skateboard.n.01'),\n",
              " Synset('trailer.n.04'),\n",
              " Synset('tricycle.n.01'),\n",
              " Synset('unicycle.n.01'),\n",
              " Synset('wagon.n.01'),\n",
              " Synset('wagon.n.04'),\n",
              " Synset('welcome_wagon.n.01')]"
            ]
          },
          "metadata": {},
          "execution_count": 20
        }
      ]
    },
    {
      "cell_type": "code",
      "source": [
        "axle = wordnet.synset('axle.n.01')\n",
        "axle.part_holonyms()"
      ],
      "metadata": {
        "colab": {
          "base_uri": "https://localhost:8080/"
        },
        "id": "RHji_zch8Dvg",
        "outputId": "c4bb0518-4435-486e-8606-5c3d46e65e89"
      },
      "execution_count": 21,
      "outputs": [
        {
          "output_type": "execute_result",
          "data": {
            "text/plain": [
              "[Synset('wheeled_vehicle.n.01')]"
            ]
          },
          "metadata": {},
          "execution_count": 21
        }
      ]
    },
    {
      "cell_type": "code",
      "source": [
        "propelled_vehicle.hyponyms()"
      ],
      "metadata": {
        "colab": {
          "base_uri": "https://localhost:8080/"
        },
        "id": "pBJ9gwvs8cIn",
        "outputId": "ae312d03-ec45-4463-d356-de39dac342b8"
      },
      "execution_count": 24,
      "outputs": [
        {
          "output_type": "execute_result",
          "data": {
            "text/plain": [
              "[Synset('armored_vehicle.n.01'),\n",
              " Synset('carrier.n.02'),\n",
              " Synset('forklift.n.01'),\n",
              " Synset('locomotive.n.01'),\n",
              " Synset('motor_vehicle.n.01'),\n",
              " Synset('personnel_carrier.n.01'),\n",
              " Synset('reconnaissance_vehicle.n.01'),\n",
              " Synset('recreational_vehicle.n.01'),\n",
              " Synset('streetcar.n.01'),\n",
              " Synset('tracked_vehicle.n.01'),\n",
              " Synset('tractor.n.01'),\n",
              " Synset('weapons_carrier.n.01')]"
            ]
          },
          "metadata": {},
          "execution_count": 24
        }
      ]
    },
    {
      "cell_type": "code",
      "source": [
        "motor_vehicle = wordnet.synset('motor_vehicle.n.01')\n",
        "motor_vehicle.hyponyms()"
      ],
      "metadata": {
        "colab": {
          "base_uri": "https://localhost:8080/"
        },
        "id": "y7-K8sEJ8jnJ",
        "outputId": "e1c3dd5d-46ba-456b-b169-8c51a0cd3bda"
      },
      "execution_count": 25,
      "outputs": [
        {
          "output_type": "execute_result",
          "data": {
            "text/plain": [
              "[Synset('amphibian.n.01'),\n",
              " Synset('bloodmobile.n.01'),\n",
              " Synset('car.n.01'),\n",
              " Synset('doodlebug.n.01'),\n",
              " Synset('four-wheel_drive.n.01'),\n",
              " Synset('go-kart.n.01'),\n",
              " Synset('golfcart.n.01'),\n",
              " Synset('hearse.n.01'),\n",
              " Synset('motorcycle.n.01'),\n",
              " Synset('snowplow.n.01'),\n",
              " Synset('truck.n.01')]"
            ]
          },
          "metadata": {},
          "execution_count": 25
        }
      ]
    },
    {
      "cell_type": "code",
      "source": [
        "car = wordnet.synset('car.n.01')\n",
        "car.part_meronyms()\n"
      ],
      "metadata": {
        "id": "5E-OXnGG8yU3"
      },
      "execution_count": null,
      "outputs": []
    }
  ]
}