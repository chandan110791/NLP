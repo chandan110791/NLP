{
  "nbformat": 4,
  "nbformat_minor": 0,
  "metadata": {
    "colab": {
      "provenance": [],
      "authorship_tag": "ABX9TyOV6D2jxGEdqi8FOr1XY+1z",
      "include_colab_link": true
    },
    "kernelspec": {
      "name": "python3",
      "display_name": "Python 3"
    },
    "language_info": {
      "name": "python"
    }
  },
  "cells": [
    {
      "cell_type": "markdown",
      "metadata": {
        "id": "view-in-github",
        "colab_type": "text"
      },
      "source": [
        "<a href=\"https://colab.research.google.com/github/chandan110791/NLP/blob/main/1_Syntactic_Processing_spacy.ipynb\" target=\"_parent\"><img src=\"https://colab.research.google.com/assets/colab-badge.svg\" alt=\"Open In Colab\"/></a>"
      ]
    },
    {
      "cell_type": "code",
      "execution_count": 1,
      "metadata": {
        "id": "vaxdyHaKmdnE"
      },
      "outputs": [],
      "source": [
        "#Heteronyms are the words which have different pronounciation but same wordings \n",
        "#We use spacey to find the pos tags for them "
      ]
    },
    {
      "cell_type": "code",
      "source": [
        "import spacy"
      ],
      "metadata": {
        "colab": {
          "base_uri": "https://localhost:8080/"
        },
        "id": "kYJ4zP-Xmopf",
        "outputId": "dd038834-590c-4006-ed8f-365eefba030c"
      },
      "execution_count": 2,
      "outputs": [
        {
          "output_type": "stream",
          "name": "stderr",
          "text": [
            "/usr/local/lib/python3.8/dist-packages/torch/cuda/__init__.py:497: UserWarning: Can't initialize NVML\n",
            "  warnings.warn(\"Can't initialize NVML\")\n"
          ]
        }
      ]
    },
    {
      "cell_type": "code",
      "source": [
        "spacy_model=spacy.load(\"en_core_web_sm\")"
      ],
      "metadata": {
        "id": "aUpEqT93mrfC"
      },
      "execution_count": 3,
      "outputs": []
    },
    {
      "cell_type": "code",
      "source": [
        "#find tokens from model \n",
        "tokens = spacy_model(\"She wished she could desert him in the desert\")"
      ],
      "metadata": {
        "id": "22X0F_qTm2dY"
      },
      "execution_count": 4,
      "outputs": []
    },
    {
      "cell_type": "code",
      "source": [
        "for token in tokens:\n",
        "  print(token.text+\"|\"+token.pos_+\"|\"+token.tag_)"
      ],
      "metadata": {
        "colab": {
          "base_uri": "https://localhost:8080/"
        },
        "id": "A_eZd48NnGLK",
        "outputId": "78bf2455-5028-4666-eb69-dd07385fbe5d"
      },
      "execution_count": 5,
      "outputs": [
        {
          "output_type": "stream",
          "name": "stdout",
          "text": [
            "She|PRON|PRP\n",
            "wished|VERB|VBD\n",
            "she|PRON|PRP\n",
            "could|AUX|MD\n",
            "desert|VERB|VB\n",
            "him|PRON|PRP\n",
            "in|ADP|IN\n",
            "the|DET|DT\n",
            "desert|NOUN|NN\n"
          ]
        }
      ]
    },
    {
      "cell_type": "code",
      "source": [
        "#Word sense Disambiguation : ABove approach wil fail when two words have same speling , same pronunciations . \n",
        "\n",
        "# Let's take a new example.\n",
        "tokens = spacy_model(\"The bass swam around the bass drum on the ocean floor\")\n",
        "for token in tokens:\n",
        "    print(token.text, \"--\", token.pos_, \"--\", token.tag_)"
      ],
      "metadata": {
        "colab": {
          "base_uri": "https://localhost:8080/"
        },
        "id": "G75xldjznS3X",
        "outputId": "829aadc4-9732-4ff9-ce8f-7aa320a2c7a6"
      },
      "execution_count": 7,
      "outputs": [
        {
          "output_type": "stream",
          "name": "stdout",
          "text": [
            "The -- DET -- DT\n",
            "bass -- NOUN -- NN\n",
            "swam -- NOUN -- NN\n",
            "around -- ADP -- IN\n",
            "the -- DET -- DT\n",
            "bass -- NOUN -- NN\n",
            "drum -- NOUN -- NN\n",
            "on -- ADP -- IN\n",
            "the -- DET -- DT\n",
            "ocean -- NOUN -- NN\n",
            "floor -- NOUN -- NN\n"
          ]
        }
      ]
    },
    {
      "cell_type": "code",
      "source": [],
      "metadata": {
        "id": "f2s7V0Enny8B"
      },
      "execution_count": null,
      "outputs": []
    }
  ]
}
