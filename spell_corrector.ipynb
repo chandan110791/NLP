{
  "cells": [
    {
      "cell_type": "markdown",
      "metadata": {
        "id": "view-in-github",
        "colab_type": "text"
      },
      "source": [
        "<a href=\"https://colab.research.google.com/github/chandan110791/NLP/blob/main/spell_corrector.ipynb\" target=\"_parent\"><img src=\"https://colab.research.google.com/assets/colab-badge.svg\" alt=\"Open In Colab\"/></a>"
      ]
    },
    {
      "cell_type": "code",
      "execution_count": 4,
      "metadata": {
        "collapsed": true,
        "id": "3Rm2QFJ9nRX2"
      },
      "outputs": [],
      "source": [
        "import re\n",
        "from collections import Counter"
      ]
    },
    {
      "cell_type": "code",
      "execution_count": 5,
      "metadata": {
        "collapsed": true,
        "id": "ArCVJbBSnRX3"
      },
      "outputs": [],
      "source": [
        "# function to tokenise words\n",
        "def words(document):\n",
        "    \"Convert text to lower case and tokenise the document\"\n",
        "    return re.findall(r'\\w+', document.lower())"
      ]
    },
    {
      "cell_type": "code",
      "execution_count": 6,
      "metadata": {
        "collapsed": true,
        "id": "MaU0ybmNnRX4"
      },
      "outputs": [],
      "source": [
        "# create a frequency table of all the words of the document\n",
        "all_words = Counter(words(open('big.txt').read()))"
      ]
    },
    {
      "cell_type": "code",
      "execution_count": 7,
      "metadata": {
        "colab": {
          "base_uri": "https://localhost:8080/"
        },
        "id": "y91XkoTYnRX5",
        "outputId": "96b685c5-2e20-4ae5-f078-a927cd16790b"
      },
      "outputs": [
        {
          "output_type": "execute_result",
          "data": {
            "text/plain": [
              "64"
            ]
          },
          "metadata": {},
          "execution_count": 7
        }
      ],
      "source": [
        "# check frequency of a random word, say, 'chair'\n",
        "all_words['chair']"
      ]
    },
    {
      "cell_type": "code",
      "execution_count": 8,
      "metadata": {
        "colab": {
          "base_uri": "https://localhost:8080/"
        },
        "id": "lLYEfTvPnRX6",
        "outputId": "cf42bbb4-06ab-4f7b-a9ac-15726dc99231"
      },
      "outputs": [
        {
          "output_type": "execute_result",
          "data": {
            "text/plain": [
              "[('the', 28193),\n",
              " ('of', 15352),\n",
              " ('and', 10451),\n",
              " ('to', 8784),\n",
              " ('in', 8209),\n",
              " ('a', 7079),\n",
              " ('was', 3986),\n",
              " ('that', 3474),\n",
              " ('it', 3468),\n",
              " ('i', 3145)]"
            ]
          },
          "metadata": {},
          "execution_count": 8
        }
      ],
      "source": [
        "# look at top 10 frequent words\n",
        "all_words.most_common(10)"
      ]
    },
    {
      "cell_type": "code",
      "execution_count": 9,
      "metadata": {
        "collapsed": true,
        "id": "tIDNj3gmnRX7"
      },
      "outputs": [],
      "source": [
        "def edits_one(word):\n",
        "    \"Create all edits that are one edit away from `word`.\"\n",
        "    alphabets    = 'abcdefghijklmnopqrstuvwxyz'\n",
        "    splits     = [(word[:i], word[i:])                   for i in range(len(word) + 1)]\n",
        "    deletes    = [left + right[1:]                       for left, right in splits if right]\n",
        "    inserts    = [left + c + right                       for left, right in splits for c in alphabets]\n",
        "    replaces   = [left + c + right[1:]                   for left, right in splits if right for c in alphabets]\n",
        "    transposes = [left + right[1] + right[0] + right[2:] for left, right in splits if len(right)>1]\n",
        "    return set(deletes + inserts + replaces + transposes)"
      ]
    },
    {
      "cell_type": "code",
      "execution_count": 10,
      "metadata": {
        "collapsed": true,
        "id": "PcFIJ4-NnRX8"
      },
      "outputs": [],
      "source": [
        "def edits_two(word):\n",
        "    \"Create all edits that are two edits away from `word`.\"\n",
        "    return (e2 for e1 in edits_one(word) for e2 in edits_one(e1))"
      ]
    },
    {
      "cell_type": "code",
      "execution_count": 11,
      "metadata": {
        "collapsed": true,
        "id": "i2-rbaRsnRX9"
      },
      "outputs": [],
      "source": [
        "def known(words):\n",
        "    \"The subset of `words` that appear in the `all_words`.\"\n",
        "    return set(word for word in words if word in all_words)"
      ]
    },
    {
      "cell_type": "code",
      "execution_count": 12,
      "metadata": {
        "collapsed": true,
        "id": "ec3MmZbsnRX-"
      },
      "outputs": [],
      "source": [
        "def possible_corrections(word):\n",
        "    \"Generate possible spelling corrections for word.\"\n",
        "    return (known([word]) or known(edits_one(word)) or known(edits_two(word)) or [word])"
      ]
    },
    {
      "cell_type": "code",
      "execution_count": 13,
      "metadata": {
        "collapsed": true,
        "id": "0zPv0owQnRX_"
      },
      "outputs": [],
      "source": [
        "def prob(word, N=sum(all_words.values())): \n",
        "    \"Probability of `word`: Number of appearances of 'word' / total number of tokens\"\n",
        "    return all_words[word] / N"
      ]
    },
    {
      "cell_type": "code",
      "execution_count": 14,
      "metadata": {
        "colab": {
          "base_uri": "https://localhost:8080/"
        },
        "id": "nZ0HHFUXnRYA",
        "outputId": "7b61081f-9e91-40ff-963f-4e075dc2c554"
      },
      "outputs": [
        {
          "output_type": "stream",
          "name": "stdout",
          "text": [
            "336\n",
            "{'fonney', 'monnxy', 'mononey', 'rmonney', 'mmonney', 'monneky', 'mognney', 'monneyn', 'mbonney', 'ponney', 'mzonney', 'manney', 'gonney', 'mponney', 'omonney', 'montey', 'mronney', 'monndy', 'conney', 'mondey', 'monzey', 'bmonney', 'moncney', 'wonney', 'mmnney', 'lonney', 'wmonney', 'eonney', 'monneny', 'honney', 'molnney', 'monqney', 'monneyr', 'monnyey', 'mhnney', 'monjey', 'moeney', 'mobnney', 'momnney', 'moyney', 'amonney', 'monnyy', 'monnpy', 'ymonney', 'monnea', 'monniey', 'monwey', 'monnley', 'monneyt', 'vonney', 'movney', 'monnvy', 'hmonney', 'monnehy', 'monneyd', 'monny', 'monnefy', 'monnhy', 'monnep', 'mosnney', 'monmney', 'monneyq', 'moncey', 'moneny', 'monhney', 'monxney', 'monnjy', 'moanney', 'monnezy', 'monnoey', 'monaey', 'emonney', 'yonney', 'monnby', 'monnee', 'sonney', 'monneh', 'monneyb', 'money', 'mvnney', 'monnmy', 'monvney', 'monnemy', 'mogney', 'mobney', 'mqnney', 'monnny', 'mojnney', 'monhey', 'konney', 'mknney', 'dmonney', 'meonney', 'mocnney', 'monvey', 'bonney', 'xonney', 'monneyf', 'moinney', 'oonney', 'monnky', 'monnei', 'monney', 'jmonney', 'vmonney', 'mtonney', 'pmonney', 'mhonney', 'mbnney', 'mjonney', 'tmonney', 'monnef', 'monniy', 'mowney', 'mopnney', 'mohnney', 'fmonney', 'monntey', 'monnoy', 'moqnney', 'monnecy', 'moknney', 'minney', 'xmonney', 'monncy', 'monneyh', 'monfey', 'ronney', 'morney', 'monsney', 'monlney', 'monnzy', 'molney', 'moznney', 'monpey', 'umonney', 'monnly', 'monneya', 'monnvey', 'monley', 'mjnney', 'mdonney', 'nonney', 'moiney', 'monxey', 'mrnney', 'monnhey', 'monneqy', 'monnaey', 'mconney', 'nmonney', 'moniney', 'monneyl', 'monnely', 'monnec', 'monnsy', 'kmonney', 'monpney', 'monnmey', 'monnety', 'monjney', 'monnuey', 'monnye', 'mkonney', 'monfney', 'zmonney', 'mouney', 'mongey', 'monneby', 'mornney', 'smonney', 'monnsey', 'onney', 'modnney', 'monnbey', 'monnwy', 'monnfey', 'mfonney', 'munney', 'monnedy', 'monnegy', 'monneyz', 'mohney', 'mongney', 'mgonney', 'monnesy', 'monned', 'monbey', 'monnzey', 'modney', 'monnay', 'mofnney', 'monqey', 'monnney', 'qonney', 'monneey', 'mosney', 'mvonney', 'mokney', 'monner', 'monnew', 'mcnney', 'monngy', 'mwnney', 'monaney', 'monneay', 'menney', 'monneb', 'monneyj', 'monnjey', 'zonney', 'mpnney', 'mqonney', 'monnevy', 'monneiy', 'mznney', 'monnet', 'uonney', 'monnry', 'motney', 'cmonney', 'mnnney', 'monneu', 'monnek', 'monneyy', 'moqney', 'monneyw', 'muonney', 'monnes', 'monneyp', 'monnexy', 'monyney', 'monnty', 'monkey', 'monnel', 'monrey', 'monngey', 'mgnney', 'monnex', 'monnery', 'monoey', 'monneo', 'mozney', 'moynney', 'monnem', 'lmonney', 'monncey', 'msnney', 'monneyu', 'aonney', 'moneney', 'monsey', 'gmonney', 'moneey', 'mdnney', 'mofney', 'monbney', 'monmey', 'monzney', 'monneg', 'mooney', 'qmonney', 'mlonney', 'mxnney', 'monnen', 'monneym', 'monnej', 'monndey', 'mnney', 'moniey', 'monnqey', 'monneyk', 'mxonney', 'monnez', 'monnqy', 'moonney', 'mondney', 'monnejy', 'motnney', 'monkney', 'monnxey', 'tonney', 'monwney', 'monuey', 'msonney', 'imonney', 'mopney', 'monuney', 'mojney', 'momney', 'moxney', 'monnuy', 'mtnney', 'mnoney', 'monnepy', 'donney', 'movnney', 'monnkey', 'monrney', 'monneyg', 'monnev', 'monneyv', 'mlnney', 'mynney', 'monneye', 'monne', 'monneyo', 'monneoy', 'mfnney', 'moaney', 'monneyi', 'monnwey', 'mocney', 'monneyc', 'monneyx', 'ionney', 'jonney', 'mounney', 'mionney', 'monneys', 'omnney', 'montney', 'monnpey', 'myonney', 'monneuy', 'moenney', 'mownney', 'mwonney', 'moxnney', 'monneq', 'monyey', 'monnewy', 'monnrey', 'monnfy', 'maonney', 'mnonney'}\n"
          ]
        }
      ],
      "source": [
        "print(len(set(edits_one(\"monney\"))))\n",
        "print(edits_one(\"monney\"))"
      ]
    },
    {
      "cell_type": "code",
      "source": [
        "len(set(edits_two(\"emfasize\")))"
      ],
      "metadata": {
        "colab": {
          "base_uri": "https://localhost:8080/"
        },
        "id": "5zSATdmFnsD8",
        "outputId": "a66df938-860b-4277-81a4-f753a4eb6b1e"
      },
      "execution_count": 25,
      "outputs": [
        {
          "output_type": "execute_result",
          "data": {
            "text/plain": [
              "90902"
            ]
          },
          "metadata": {},
          "execution_count": 25
        }
      ]
    },
    {
      "cell_type": "code",
      "execution_count": 15,
      "metadata": {
        "colab": {
          "base_uri": "https://localhost:8080/"
        },
        "id": "8-SALU5VnRYB",
        "outputId": "8270ef6a-30d8-43a8-b3b9-5b2ff7717e72"
      },
      "outputs": [
        {
          "output_type": "stream",
          "name": "stdout",
          "text": [
            "{'money'}\n"
          ]
        }
      ],
      "source": [
        "print(known(edits_one(\"monney\")))"
      ]
    },
    {
      "cell_type": "code",
      "execution_count": 16,
      "metadata": {
        "colab": {
          "base_uri": "https://localhost:8080/"
        },
        "id": "uybYnMRknRYB",
        "outputId": "574ffb6d-7ffa-4c24-9977-92678e6f80dc"
      },
      "outputs": [
        {
          "output_type": "stream",
          "name": "stdout",
          "text": [
            "51013\n",
            "{'money'}\n"
          ]
        }
      ],
      "source": [
        "# Let's look at words that are two edits away\n",
        "print(len(set(edits_two(\"monney\"))))\n",
        "print(known(edits_one(\"monney\")))"
      ]
    },
    {
      "cell_type": "code",
      "execution_count": 17,
      "metadata": {
        "colab": {
          "base_uri": "https://localhost:8080/"
        },
        "id": "mxltN-xEnRYC",
        "outputId": "b72496b4-66c3-4be6-c147-3d44437f3132"
      },
      "outputs": [
        {
          "output_type": "stream",
          "name": "stdout",
          "text": [
            "{'money'}\n"
          ]
        }
      ],
      "source": [
        "# Let's look at possible corrections of a word\n",
        "print(possible_corrections(\"monney\"))"
      ]
    },
    {
      "cell_type": "code",
      "source": [
        "print(possible_corrections(\"emfasize\"))"
      ],
      "metadata": {
        "colab": {
          "base_uri": "https://localhost:8080/"
        },
        "id": "TK2nZvcuoN7i",
        "outputId": "af8d5df7-0a28-4618-a77b-78017394db5b"
      },
      "execution_count": 26,
      "outputs": [
        {
          "output_type": "stream",
          "name": "stdout",
          "text": [
            "{'emphasize'}\n"
          ]
        }
      ]
    },
    {
      "cell_type": "code",
      "execution_count": 18,
      "metadata": {
        "colab": {
          "base_uri": "https://localhost:8080/"
        },
        "id": "CGZqPclmnRYC",
        "outputId": "80188da1-1373-4833-efc6-60f861c4c93c"
      },
      "outputs": [
        {
          "output_type": "stream",
          "name": "stdout",
          "text": [
            "0.0005374100266989875\n",
            "0.0\n"
          ]
        }
      ],
      "source": [
        "# Let's look at probability of a word\n",
        "print(prob(\"money\"))\n",
        "print(prob(\"monkey\"))"
      ]
    },
    {
      "cell_type": "code",
      "execution_count": 19,
      "metadata": {
        "id": "DevIajENnRYC"
      },
      "outputs": [],
      "source": [
        "def spell_check(word):\n",
        "    \"Print the most probable spelling correction for `word` out of all the `possible_corrections`\"\n",
        "    correct_word = max(possible_corrections(word), key=prob)\n",
        "    if correct_word != word:\n",
        "        return \"Did you mean \" + correct_word + \"?\"\n",
        "    else:\n",
        "        return \"Correct spelling.\""
      ]
    },
    {
      "cell_type": "code",
      "execution_count": 20,
      "metadata": {
        "colab": {
          "base_uri": "https://localhost:8080/"
        },
        "id": "sP8qNW4bnRYC",
        "outputId": "c42a269f-5269-4589-dde1-d4d24ec590aa"
      },
      "outputs": [
        {
          "output_type": "stream",
          "name": "stdout",
          "text": [
            "Did you mean money?\n"
          ]
        }
      ],
      "source": [
        "# test spell check\n",
        "print(spell_check(\"monney\"))"
      ]
    }
  ],
  "metadata": {
    "kernelspec": {
      "display_name": "Python 3",
      "language": "python",
      "name": "python3"
    },
    "language_info": {
      "codemirror_mode": {
        "name": "ipython",
        "version": 3
      },
      "file_extension": ".py",
      "mimetype": "text/x-python",
      "name": "python",
      "nbconvert_exporter": "python",
      "pygments_lexer": "ipython3",
      "version": "3.6.4"
    },
    "colab": {
      "provenance": [],
      "include_colab_link": true
    }
  },
  "nbformat": 4,
  "nbformat_minor": 0
}