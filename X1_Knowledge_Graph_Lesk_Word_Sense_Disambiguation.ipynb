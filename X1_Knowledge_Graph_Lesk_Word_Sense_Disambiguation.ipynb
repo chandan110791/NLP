{
  "nbformat": 4,
  "nbformat_minor": 0,
  "metadata": {
    "colab": {
      "provenance": [],
      "authorship_tag": "ABX9TyPIh+hPKmZ2ipLjqIDbHL90",
      "include_colab_link": true
    },
    "kernelspec": {
      "name": "python3",
      "display_name": "Python 3"
    },
    "language_info": {
      "name": "python"
    }
  },
  "cells": [
    {
      "cell_type": "markdown",
      "metadata": {
        "id": "view-in-github",
        "colab_type": "text"
      },
      "source": [
        "<a href=\"https://colab.research.google.com/github/chandan110791/NLP/blob/main/X1_Knowledge_Graph_Lesk_Word_Sense_Disambiguation.ipynb\" target=\"_parent\"><img src=\"https://colab.research.google.com/assets/colab-badge.svg\" alt=\"Open In Colab\"/></a>"
      ]
    },
    {
      "cell_type": "code",
      "execution_count": 5,
      "metadata": {
        "id": "tOcSPHjgir8r"
      },
      "outputs": [],
      "source": [
        "from nltk.corpus import wordnet as wn\n",
        "from nltk import wsd"
      ]
    },
    {
      "cell_type": "code",
      "source": [
        "import nltk\n",
        "nltk.download('wordnet')\n",
        "nltk.download('omw-1.4')"
      ],
      "metadata": {
        "colab": {
          "base_uri": "https://localhost:8080/"
        },
        "id": "9lmv5UpxjjbT",
        "outputId": "28f4c006-c317-4811-cdea-710967117ab6"
      },
      "execution_count": 8,
      "outputs": [
        {
          "output_type": "stream",
          "name": "stderr",
          "text": [
            "[nltk_data] Downloading package wordnet to /root/nltk_data...\n",
            "[nltk_data]   Package wordnet is already up-to-date!\n",
            "[nltk_data] Downloading package omw-1.4 to /root/nltk_data...\n"
          ]
        },
        {
          "output_type": "execute_result",
          "data": {
            "text/plain": [
              "True"
            ]
          },
          "metadata": {},
          "execution_count": 8
        }
      ]
    },
    {
      "cell_type": "markdown",
      "source": [
        "**Word Sense Dimabiguation**"
      ],
      "metadata": {
        "id": "f8VlH_VikwMQ"
      }
    },
    {
      "cell_type": "code",
      "source": [
        "X = 'The die is cast'\n",
        "Y = 'Roll the die to get a 6'\n",
        "Z = 'What is dead may never die'"
      ],
      "metadata": {
        "id": "Pq3X-2Qvit6c"
      },
      "execution_count": 2,
      "outputs": []
    },
    {
      "cell_type": "code",
      "source": [
        "wn.synsets('die')"
      ],
      "metadata": {
        "colab": {
          "base_uri": "https://localhost:8080/"
        },
        "id": "531kfnz7jV4v",
        "outputId": "04fcdb9c-617a-45df-e5f0-df1292eb2009"
      },
      "execution_count": 9,
      "outputs": [
        {
          "output_type": "execute_result",
          "data": {
            "text/plain": [
              "[Synset('die.n.01'),\n",
              " Synset('die.n.02'),\n",
              " Synset('die.n.03'),\n",
              " Synset('die.v.01'),\n",
              " Synset('die.v.02'),\n",
              " Synset('die.v.03'),\n",
              " Synset('fail.v.04'),\n",
              " Synset('die.v.05'),\n",
              " Synset('die.v.06'),\n",
              " Synset('die.v.07'),\n",
              " Synset('die.v.08'),\n",
              " Synset('die.v.09'),\n",
              " Synset('die.v.10'),\n",
              " Synset('die.v.11')]"
            ]
          },
          "metadata": {},
          "execution_count": 9
        }
      ]
    },
    {
      "cell_type": "code",
      "source": [
        "wn.synsets('die',pos=wn.NOUN)"
      ],
      "metadata": {
        "colab": {
          "base_uri": "https://localhost:8080/"
        },
        "id": "MgcKb2AAjddU",
        "outputId": "122d396e-cd1b-41ee-b565-5c3ba55665e6"
      },
      "execution_count": 10,
      "outputs": [
        {
          "output_type": "execute_result",
          "data": {
            "text/plain": [
              "[Synset('die.n.01'), Synset('die.n.02'), Synset('die.n.03')]"
            ]
          },
          "metadata": {},
          "execution_count": 10
        }
      ]
    },
    {
      "cell_type": "code",
      "source": [
        "for syn in wn.synsets('die',pos=wn.NOUN):\n",
        "  print(syn.definition())"
      ],
      "metadata": {
        "colab": {
          "base_uri": "https://localhost:8080/"
        },
        "id": "MYuYCYYukEX7",
        "outputId": "2972f63e-d5e4-42bc-f8e3-236cc5a15ac0"
      },
      "execution_count": 12,
      "outputs": [
        {
          "output_type": "stream",
          "name": "stdout",
          "text": [
            "a small cube with 1 to 6 spots on the six faces; used in gambling to generate random numbers\n",
            "a device used for shaping metal\n",
            "a cutting tool that is fitted into a diestock and used for cutting male (external) screw threads on screws or bolts or pipes or rods\n"
          ]
        }
      ]
    },
    {
      "cell_type": "code",
      "source": [
        "for syn in wn.synsets('die',pos=wn.VERB):\n",
        "  print(syn.definition())"
      ],
      "metadata": {
        "colab": {
          "base_uri": "https://localhost:8080/"
        },
        "id": "Id5Vb-fekRX5",
        "outputId": "70bdf48c-088d-4e23-8fd5-d6476fb5485d"
      },
      "execution_count": 14,
      "outputs": [
        {
          "output_type": "stream",
          "name": "stdout",
          "text": [
            "pass from physical life and lose all bodily attributes and functions necessary to sustain life\n",
            "suffer or face the pain of death\n",
            "be brought to or as if to the point of death by an intense emotion such as embarrassment, amusement, or shame\n",
            "stop operating or functioning\n",
            "feel indifferent towards\n",
            "languish as with love or desire\n",
            "cut or shape with a die\n",
            "to be on base at the end of an inning, of a player\n",
            "lose sparkle or bouquet\n",
            "disappear or come to an end\n",
            "suffer spiritual death; be damned (in the religious sense)\n"
          ]
        }
      ]
    },
    {
      "cell_type": "markdown",
      "source": [
        "Word Sense Disambiguation with Lesk Algorithm"
      ],
      "metadata": {
        "id": "0tt-AHghk1Hp"
      }
    },
    {
      "cell_type": "code",
      "source": [
        "print(X)"
      ],
      "metadata": {
        "colab": {
          "base_uri": "https://localhost:8080/"
        },
        "id": "Lj42mO8qkiUA",
        "outputId": "227dcdf4-8c31-4974-8079-161038423386"
      },
      "execution_count": 15,
      "outputs": [
        {
          "output_type": "stream",
          "name": "stdout",
          "text": [
            "The die is cast\n"
          ]
        }
      ]
    },
    {
      "cell_type": "code",
      "source": [
        "wsd.lesk(X.split(),'die')"
      ],
      "metadata": {
        "colab": {
          "base_uri": "https://localhost:8080/"
        },
        "id": "KyPgVKO3lCVg",
        "outputId": "3e581cd6-f6c3-4ca9-e291-46968cf45b0e"
      },
      "execution_count": 16,
      "outputs": [
        {
          "output_type": "execute_result",
          "data": {
            "text/plain": [
              "Synset('die.v.07')"
            ]
          },
          "metadata": {},
          "execution_count": 16
        }
      ]
    },
    {
      "cell_type": "code",
      "source": [
        "_.definition()"
      ],
      "metadata": {
        "colab": {
          "base_uri": "https://localhost:8080/",
          "height": 35
        },
        "id": "GsU5q77wlIYR",
        "outputId": "ff903831-77ab-4fa1-ba65-a7886a43159f"
      },
      "execution_count": 17,
      "outputs": [
        {
          "output_type": "execute_result",
          "data": {
            "text/plain": [
              "'cut or shape with a die'"
            ],
            "application/vnd.google.colaboratory.intrinsic+json": {
              "type": "string"
            }
          },
          "metadata": {},
          "execution_count": 17
        }
      ]
    },
    {
      "cell_type": "code",
      "source": [
        "wsd.lesk(X.split(),'die',pos=wn.NOUN).definition()"
      ],
      "metadata": {
        "colab": {
          "base_uri": "https://localhost:8080/",
          "height": 35
        },
        "id": "JvxW9pP5lNmW",
        "outputId": "476c7992-6e35-4d51-e549-de21bb9e8466"
      },
      "execution_count": 18,
      "outputs": [
        {
          "output_type": "execute_result",
          "data": {
            "text/plain": [
              "'a cutting tool that is fitted into a diestock and used for cutting male (external) screw threads on screws or bolts or pipes or rods'"
            ],
            "application/vnd.google.colaboratory.intrinsic+json": {
              "type": "string"
            }
          },
          "metadata": {},
          "execution_count": 18
        }
      ]
    },
    {
      "cell_type": "code",
      "source": [
        "print(Y)\n",
        "print(wsd.lesk(Y.split(),'die',pos=wn.NOUN).definition())\n",
        "print(wsd.lesk(Y.split(),'die',pos=wn.VERB).definition())\n"
      ],
      "metadata": {
        "colab": {
          "base_uri": "https://localhost:8080/"
        },
        "id": "4u8jMx_WlmMb",
        "outputId": "31dc99bb-f3ce-4f58-ef82-f889511a6945"
      },
      "execution_count": 21,
      "outputs": [
        {
          "output_type": "stream",
          "name": "stdout",
          "text": [
            "Roll the die to get a 6\n",
            "a small cube with 1 to 6 spots on the six faces; used in gambling to generate random numbers\n",
            "to be on base at the end of an inning, of a player\n"
          ]
        }
      ]
    },
    {
      "cell_type": "code",
      "source": [
        "print(Z)\n",
        "print(wsd.lesk(Z.split(),'die',pos=wn.NOUN).definition())\n",
        "print(wsd.lesk(Z.split(),'die',pos=wn.VERB).definition())"
      ],
      "metadata": {
        "colab": {
          "base_uri": "https://localhost:8080/"
        },
        "id": "uinaEmIUl3yN",
        "outputId": "a33f5d2c-6ad6-4c6c-ea43-6279a8792d23"
      },
      "execution_count": 22,
      "outputs": [
        {
          "output_type": "stream",
          "name": "stdout",
          "text": [
            "What is dead may never die\n",
            "a cutting tool that is fitted into a diestock and used for cutting male (external) screw threads on screws or bolts or pipes or rods\n",
            "cut or shape with a die\n"
          ]
        }
      ]
    },
    {
      "cell_type": "markdown",
      "source": [
        "Automatic POS Tagging + Lesk with spaCy"
      ],
      "metadata": {
        "id": "_5kT4qEFmLwO"
      }
    },
    {
      "cell_type": "code",
      "source": [
        "!pip install spacy"
      ],
      "metadata": {
        "colab": {
          "base_uri": "https://localhost:8080/"
        },
        "id": "jVBLIQcHmHlv",
        "outputId": "cc88e0b2-05f5-4aca-ce88-f0b32e4a1ca9"
      },
      "execution_count": 23,
      "outputs": [
        {
          "output_type": "stream",
          "name": "stdout",
          "text": [
            "Looking in indexes: https://pypi.org/simple, https://us-python.pkg.dev/colab-wheels/public/simple/\n",
            "Requirement already satisfied: spacy in /usr/local/lib/python3.8/dist-packages (3.4.4)\n",
            "Requirement already satisfied: numpy>=1.15.0 in /usr/local/lib/python3.8/dist-packages (from spacy) (1.21.6)\n",
            "Requirement already satisfied: preshed<3.1.0,>=3.0.2 in /usr/local/lib/python3.8/dist-packages (from spacy) (3.0.8)\n",
            "Requirement already satisfied: wasabi<1.1.0,>=0.9.1 in /usr/local/lib/python3.8/dist-packages (from spacy) (0.10.1)\n",
            "Requirement already satisfied: tqdm<5.0.0,>=4.38.0 in /usr/local/lib/python3.8/dist-packages (from spacy) (4.64.1)\n",
            "Requirement already satisfied: requests<3.0.0,>=2.13.0 in /usr/local/lib/python3.8/dist-packages (from spacy) (2.25.1)\n",
            "Requirement already satisfied: pydantic!=1.8,!=1.8.1,<1.11.0,>=1.7.4 in /usr/local/lib/python3.8/dist-packages (from spacy) (1.10.4)\n",
            "Requirement already satisfied: spacy-loggers<2.0.0,>=1.0.0 in /usr/local/lib/python3.8/dist-packages (from spacy) (1.0.4)\n",
            "Requirement already satisfied: cymem<2.1.0,>=2.0.2 in /usr/local/lib/python3.8/dist-packages (from spacy) (2.0.7)\n",
            "Requirement already satisfied: jinja2 in /usr/local/lib/python3.8/dist-packages (from spacy) (2.11.3)\n",
            "Requirement already satisfied: spacy-legacy<3.1.0,>=3.0.10 in /usr/local/lib/python3.8/dist-packages (from spacy) (3.0.11)\n",
            "Requirement already satisfied: murmurhash<1.1.0,>=0.28.0 in /usr/local/lib/python3.8/dist-packages (from spacy) (1.0.9)\n",
            "Requirement already satisfied: smart-open<7.0.0,>=5.2.1 in /usr/local/lib/python3.8/dist-packages (from spacy) (6.3.0)\n",
            "Requirement already satisfied: typer<0.8.0,>=0.3.0 in /usr/local/lib/python3.8/dist-packages (from spacy) (0.7.0)\n",
            "Requirement already satisfied: setuptools in /usr/local/lib/python3.8/dist-packages (from spacy) (57.4.0)\n",
            "Requirement already satisfied: pathy>=0.3.5 in /usr/local/lib/python3.8/dist-packages (from spacy) (0.10.1)\n",
            "Requirement already satisfied: thinc<8.2.0,>=8.1.0 in /usr/local/lib/python3.8/dist-packages (from spacy) (8.1.6)\n",
            "Requirement already satisfied: srsly<3.0.0,>=2.4.3 in /usr/local/lib/python3.8/dist-packages (from spacy) (2.4.5)\n",
            "Requirement already satisfied: packaging>=20.0 in /usr/local/lib/python3.8/dist-packages (from spacy) (21.3)\n",
            "Requirement already satisfied: langcodes<4.0.0,>=3.2.0 in /usr/local/lib/python3.8/dist-packages (from spacy) (3.3.0)\n",
            "Requirement already satisfied: catalogue<2.1.0,>=2.0.6 in /usr/local/lib/python3.8/dist-packages (from spacy) (2.0.8)\n",
            "Requirement already satisfied: pyparsing!=3.0.5,>=2.0.2 in /usr/local/lib/python3.8/dist-packages (from packaging>=20.0->spacy) (3.0.9)\n",
            "Requirement already satisfied: typing-extensions>=4.2.0 in /usr/local/lib/python3.8/dist-packages (from pydantic!=1.8,!=1.8.1,<1.11.0,>=1.7.4->spacy) (4.4.0)\n",
            "Requirement already satisfied: idna<3,>=2.5 in /usr/local/lib/python3.8/dist-packages (from requests<3.0.0,>=2.13.0->spacy) (2.10)\n",
            "Requirement already satisfied: certifi>=2017.4.17 in /usr/local/lib/python3.8/dist-packages (from requests<3.0.0,>=2.13.0->spacy) (2022.12.7)\n",
            "Requirement already satisfied: chardet<5,>=3.0.2 in /usr/local/lib/python3.8/dist-packages (from requests<3.0.0,>=2.13.0->spacy) (4.0.0)\n",
            "Requirement already satisfied: urllib3<1.27,>=1.21.1 in /usr/local/lib/python3.8/dist-packages (from requests<3.0.0,>=2.13.0->spacy) (1.24.3)\n",
            "Requirement already satisfied: blis<0.8.0,>=0.7.8 in /usr/local/lib/python3.8/dist-packages (from thinc<8.2.0,>=8.1.0->spacy) (0.7.9)\n",
            "Requirement already satisfied: confection<1.0.0,>=0.0.1 in /usr/local/lib/python3.8/dist-packages (from thinc<8.2.0,>=8.1.0->spacy) (0.0.3)\n",
            "Requirement already satisfied: click<9.0.0,>=7.1.1 in /usr/local/lib/python3.8/dist-packages (from typer<0.8.0,>=0.3.0->spacy) (7.1.2)\n",
            "Requirement already satisfied: MarkupSafe>=0.23 in /usr/local/lib/python3.8/dist-packages (from jinja2->spacy) (2.0.1)\n"
          ]
        }
      ]
    },
    {
      "cell_type": "markdown",
      "source": [],
      "metadata": {
        "id": "EqtrgrIOnwOY"
      }
    },
    {
      "cell_type": "code",
      "source": [
        "from spacy.cli import download\n",
        "from spacy import load \n",
        "nlp = load ('en_core_web_sm')"
      ],
      "metadata": {
        "id": "ctU6hJjlmQxw"
      },
      "execution_count": 24,
      "outputs": []
    },
    {
      "cell_type": "code",
      "source": [
        "import warnings\n",
        "\n",
        "POS_MAP = {\n",
        "      'VERB':wn.VERB,\n",
        "      'NOUN':wn.NOUN,\n",
        "      'PROPN':wn.NOUN\n",
        "\n",
        "}\n",
        "\n",
        "\n",
        "def lesk(doc,word):\n",
        "  found = False\n",
        "  for token in doc:\n",
        "    print(token.text)\n",
        "    if token.text == word:\n",
        "        word=token\n",
        "        found = True\n",
        "        break\n",
        "  if not found:\n",
        "      raise ValueError(f'Word \\\" does not appear in document {doc.text}')\n",
        "  pos = POS_MAP.get(word.pos_,False)\n",
        "  print(pos)\n",
        "  if not pos:\n",
        "      warnings.warn(f'POS tag for {word.text} not found in wordnet.Falling back to default lesk behaviour')\n",
        "  args = [c.text for c in doc],word.text\n",
        "  kwargs = dict(pos=pos)\n",
        "  return wsd.lesk(*args,**kwargs)"
      ],
      "metadata": {
        "id": "fUiiwi_En6hb"
      },
      "execution_count": 32,
      "outputs": []
    },
    {
      "cell_type": "code",
      "source": [
        "doc = nlp('Roll the die to get a 6')"
      ],
      "metadata": {
        "id": "es_ujM8EpCyP"
      },
      "execution_count": 26,
      "outputs": []
    },
    {
      "cell_type": "code",
      "source": [
        "lesk(doc,'die')"
      ],
      "metadata": {
        "colab": {
          "base_uri": "https://localhost:8080/"
        },
        "id": "DNOBJWEIpIgw",
        "outputId": "e431cddf-1d8d-4f28-b8ee-26be02580393"
      },
      "execution_count": 33,
      "outputs": [
        {
          "output_type": "stream",
          "name": "stdout",
          "text": [
            "Roll\n",
            "the\n",
            "die\n",
            "n\n"
          ]
        },
        {
          "output_type": "execute_result",
          "data": {
            "text/plain": [
              "Synset('die.n.01')"
            ]
          },
          "metadata": {},
          "execution_count": 33
        }
      ]
    },
    {
      "cell_type": "code",
      "source": [
        "lesk(doc,'die').definition()"
      ],
      "metadata": {
        "colab": {
          "base_uri": "https://localhost:8080/",
          "height": 104
        },
        "id": "6wrKmmx1pLQ9",
        "outputId": "874c8b53-0626-4cae-ec9f-7ae1a57e9de7"
      },
      "execution_count": 35,
      "outputs": [
        {
          "output_type": "stream",
          "name": "stdout",
          "text": [
            "Roll\n",
            "the\n",
            "die\n",
            "n\n"
          ]
        },
        {
          "output_type": "execute_result",
          "data": {
            "text/plain": [
              "'a small cube with 1 to 6 spots on the six faces; used in gambling to generate random numbers'"
            ],
            "application/vnd.google.colaboratory.intrinsic+json": {
              "type": "string"
            }
          },
          "metadata": {},
          "execution_count": 35
        }
      ]
    },
    {
      "cell_type": "code",
      "source": [
        "lesk(nlp('i work at google'),'google').definition()"
      ],
      "metadata": {
        "colab": {
          "base_uri": "https://localhost:8080/",
          "height": 122
        },
        "id": "YJV53MKdqKf5",
        "outputId": "a197b8a7-71f9-4ead-8b6e-91d6d87712bd"
      },
      "execution_count": 37,
      "outputs": [
        {
          "output_type": "stream",
          "name": "stdout",
          "text": [
            "i\n",
            "work\n",
            "at\n",
            "google\n",
            "n\n"
          ]
        },
        {
          "output_type": "execute_result",
          "data": {
            "text/plain": [
              "\"a widely used search engine that uses text-matching techniques to find web pages that are important and relevant to a user's search\""
            ],
            "application/vnd.google.colaboratory.intrinsic+json": {
              "type": "string"
            }
          },
          "metadata": {},
          "execution_count": 37
        }
      ]
    },
    {
      "cell_type": "code",
      "source": [
        "lesk(nlp('i wil google it.'),'google').definition()"
      ],
      "metadata": {
        "colab": {
          "base_uri": "https://localhost:8080/",
          "height": 104
        },
        "id": "6bgp34peqYGW",
        "outputId": "78a26be2-cc31-4be5-df4b-5d669d05c354"
      },
      "execution_count": 39,
      "outputs": [
        {
          "output_type": "stream",
          "name": "stdout",
          "text": [
            "i\n",
            "wil\n",
            "google\n",
            "n\n"
          ]
        },
        {
          "output_type": "execute_result",
          "data": {
            "text/plain": [
              "\"a widely used search engine that uses text-matching techniques to find web pages that are important and relevant to a user's search\""
            ],
            "application/vnd.google.colaboratory.intrinsic+json": {
              "type": "string"
            }
          },
          "metadata": {},
          "execution_count": 39
        }
      ]
    },
    {
      "cell_type": "code",
      "source": [],
      "metadata": {
        "id": "3gslQr3Oqezf"
      },
      "execution_count": null,
      "outputs": []
    }
  ]
}